{
 "cells": [
  {
   "cell_type": "code",
   "execution_count": 1,
   "metadata": {
    "collapsed": false
   },
   "outputs": [],
   "source": [
    "import pandas as pd\n",
    "import numpy as np\n",
    "from sklearn.utils.extmath import cartesian\n",
    "import requests\n",
    "from bs4 import BeautifulSoup as bs"
   ]
  },
  {
   "cell_type": "code",
   "execution_count": 2,
   "metadata": {
    "collapsed": false
   },
   "outputs": [],
   "source": [
    "df = pd.read_csv('~/Downloads/DKSalaries.csv')\n",
    "lp = df[df['AvgPointsPerGame'] > 6]\n",
    "nr = lp[lp['Position'] != 'RP']"
   ]
  },
  {
   "cell_type": "code",
   "execution_count": 3,
   "metadata": {
    "collapsed": false
   },
   "outputs": [
    {
     "data": {
      "text/plain": [
       "[u'Justin Verlander',\n",
       " u'Josh Tomlin',\n",
       " u'Jake Arrieta',\n",
       " u'Jonathon Niese',\n",
       " u'Luis Severino',\n",
       " u'Chris Tillman',\n",
       " u'Martin Perez',\n",
       " u'Marco Estrada',\n",
       " u'Scott Kazmir',\n",
       " u'Matt Moore',\n",
       " u'Matthew Wisler',\n",
       " u'Matt Harvey',\n",
       " u'Patrick Corbin',\n",
       " u'Justin Nicolino',\n",
       " u'Jeff Samardzija',\n",
       " u'John Lamb',\n",
       " u'Alex Meyer',\n",
       " u'Collin McHugh',\n",
       " u'Nick Tropeano',\n",
       " u'Junior Guerra',\n",
       " u'Steven Wright',\n",
       " u'Jose Quintana',\n",
       " u'Tanner Roark',\n",
       " u'Chris Young',\n",
       " u'Aaron Nola',\n",
       " u'Michael Wacha',\n",
       " u'Hisashi Iwakuma',\n",
       " u'Sonny Gray',\n",
       " u'Eddie Butler',\n",
       " u'Andrew Cashner']"
      ]
     },
     "execution_count": 3,
     "metadata": {},
     "output_type": "execute_result"
    }
   ],
   "source": [
    "r = requests.get('http://www.fantasypros.com/mlb/lineups/')\n",
    "soup = bs(r.text, 'lxml')\n",
    "starters_html = soup.findAll('span', {'class': 'available'})\n",
    "starters = []\n",
    "for s in starters_html:\n",
    "    starters.append(s.a.contents[0])\n",
    "starters"
   ]
  },
  {
   "cell_type": "code",
   "execution_count": 4,
   "metadata": {
    "collapsed": false
   },
   "outputs": [
    {
     "data": {
      "text/plain": [
       "['Jake Arrieta',\n",
       " 'Matt Harvey',\n",
       " 'Sonny Gray',\n",
       " 'Michael Wacha',\n",
       " 'Scott Kazmir',\n",
       " 'Matt Moore',\n",
       " 'Aaron Nola',\n",
       " 'Collin McHugh',\n",
       " 'Jeff Samardzija',\n",
       " 'Jose Quintana',\n",
       " 'Hisashi Iwakuma',\n",
       " 'Patrick Corbin',\n",
       " 'Steven Wright',\n",
       " 'Tanner Roark',\n",
       " 'Andrew Cashner',\n",
       " 'Marco Estrada',\n",
       " 'Martin Perez',\n",
       " 'Chris Tillman',\n",
       " 'Chris Young',\n",
       " 'Jonathon Niese',\n",
       " 'Nick Tropeano',\n",
       " 'Eddie Butler',\n",
       " 'Justin Nicolino']"
      ]
     },
     "execution_count": 4,
     "metadata": {},
     "output_type": "execute_result"
    }
   ],
   "source": [
    "st = nr[nr['Name'].isin(starters)]\n",
    "st['Name'].tolist()"
   ]
  },
  {
   "cell_type": "code",
   "execution_count": 5,
   "metadata": {
    "collapsed": false
   },
   "outputs": [],
   "source": [
    "sp_combos = pd.DataFrame(cartesian([st['Name'], st['Name']]), columns=['SP1', 'SP2'])\n",
    "sp_combos = sp_combos[sp_combos['SP1'] != sp_combos['SP2']]"
   ]
  },
  {
   "cell_type": "code",
   "execution_count": 6,
   "metadata": {
    "collapsed": false,
    "scrolled": true
   },
   "outputs": [
    {
     "ename": "ValueError",
     "evalue": "array is too big.",
     "output_type": "error",
     "traceback": [
      "\u001b[0;31m---------------------------------------------------------------------------\u001b[0m",
      "\u001b[0;31mValueError\u001b[0m                                Traceback (most recent call last)",
      "\u001b[0;32m<ipython-input-6-401b9cf3ca5a>\u001b[0m in \u001b[0;36m<module>\u001b[0;34m()\u001b[0m\n\u001b[1;32m      4\u001b[0m \u001b[0mof_combos\u001b[0m \u001b[0;34m=\u001b[0m \u001b[0mof_combos\u001b[0m\u001b[0;34m[\u001b[0m\u001b[0mof_combos\u001b[0m\u001b[0;34m[\u001b[0m\u001b[0;34m'OF1'\u001b[0m\u001b[0;34m]\u001b[0m \u001b[0;34m!=\u001b[0m \u001b[0mof_combos\u001b[0m\u001b[0;34m[\u001b[0m\u001b[0;34m'OF3'\u001b[0m\u001b[0;34m]\u001b[0m\u001b[0;34m]\u001b[0m\u001b[0;34m\u001b[0m\u001b[0m\n\u001b[1;32m      5\u001b[0m \u001b[0mof_combos\u001b[0m \u001b[0;34m=\u001b[0m \u001b[0mof_combos\u001b[0m\u001b[0;34m[\u001b[0m\u001b[0mof_combos\u001b[0m\u001b[0;34m[\u001b[0m\u001b[0;34m'OF2'\u001b[0m\u001b[0;34m]\u001b[0m \u001b[0;34m!=\u001b[0m \u001b[0mof_combos\u001b[0m\u001b[0;34m[\u001b[0m\u001b[0;34m'OF3'\u001b[0m\u001b[0;34m]\u001b[0m\u001b[0;34m]\u001b[0m\u001b[0;34m\u001b[0m\u001b[0m\n\u001b[0;32m----> 6\u001b[0;31m pd.DataFrame(cartesian([of_combos['OF1'], of_combos['OF2'], of_combos['OF3'], sp_combos['SP1'], sp_combos['SP2']]),\n\u001b[0m\u001b[1;32m      7\u001b[0m              columns=['OF1', 'OF2', 'OF3', 'SP1', 'SP2'])\n",
      "\u001b[0;32m/Library/Python/2.7/site-packages/sklearn/utils/extmath.pyc\u001b[0m in \u001b[0;36mcartesian\u001b[0;34m(arrays, out)\u001b[0m\n\u001b[1;32m    525\u001b[0m     \u001b[0mdtype\u001b[0m \u001b[0;34m=\u001b[0m \u001b[0marrays\u001b[0m\u001b[0;34m[\u001b[0m\u001b[0;36m0\u001b[0m\u001b[0;34m]\u001b[0m\u001b[0;34m.\u001b[0m\u001b[0mdtype\u001b[0m\u001b[0;34m\u001b[0m\u001b[0m\n\u001b[1;32m    526\u001b[0m \u001b[0;34m\u001b[0m\u001b[0m\n\u001b[0;32m--> 527\u001b[0;31m     \u001b[0mix\u001b[0m \u001b[0;34m=\u001b[0m \u001b[0mnp\u001b[0m\u001b[0;34m.\u001b[0m\u001b[0mindices\u001b[0m\u001b[0;34m(\u001b[0m\u001b[0mshape\u001b[0m\u001b[0;34m)\u001b[0m\u001b[0;34m\u001b[0m\u001b[0m\n\u001b[0m\u001b[1;32m    528\u001b[0m     \u001b[0mix\u001b[0m \u001b[0;34m=\u001b[0m \u001b[0mix\u001b[0m\u001b[0;34m.\u001b[0m\u001b[0mreshape\u001b[0m\u001b[0;34m(\u001b[0m\u001b[0mlen\u001b[0m\u001b[0;34m(\u001b[0m\u001b[0marrays\u001b[0m\u001b[0;34m)\u001b[0m\u001b[0;34m,\u001b[0m \u001b[0;34m-\u001b[0m\u001b[0;36m1\u001b[0m\u001b[0;34m)\u001b[0m\u001b[0;34m.\u001b[0m\u001b[0mT\u001b[0m\u001b[0;34m\u001b[0m\u001b[0m\n\u001b[1;32m    529\u001b[0m \u001b[0;34m\u001b[0m\u001b[0m\n",
      "\u001b[0;32m/Library/Python/2.7/site-packages/numpy/core/numeric.pyc\u001b[0m in \u001b[0;36mindices\u001b[0;34m(dimensions, dtype)\u001b[0m\n\u001b[1;32m   1998\u001b[0m     \u001b[0;32mif\u001b[0m \u001b[0mN\u001b[0m \u001b[0;34m==\u001b[0m \u001b[0;36m0\u001b[0m\u001b[0;34m:\u001b[0m\u001b[0;34m\u001b[0m\u001b[0m\n\u001b[1;32m   1999\u001b[0m         \u001b[0;32mreturn\u001b[0m \u001b[0marray\u001b[0m\u001b[0;34m(\u001b[0m\u001b[0;34m[\u001b[0m\u001b[0;34m]\u001b[0m\u001b[0;34m,\u001b[0m \u001b[0mdtype\u001b[0m\u001b[0;34m=\u001b[0m\u001b[0mdtype\u001b[0m\u001b[0;34m)\u001b[0m\u001b[0;34m\u001b[0m\u001b[0m\n\u001b[0;32m-> 2000\u001b[0;31m     \u001b[0mres\u001b[0m \u001b[0;34m=\u001b[0m \u001b[0mempty\u001b[0m\u001b[0;34m(\u001b[0m\u001b[0;34m(\u001b[0m\u001b[0mN\u001b[0m\u001b[0;34m,\u001b[0m\u001b[0;34m)\u001b[0m\u001b[0;34m+\u001b[0m\u001b[0mdimensions\u001b[0m\u001b[0;34m,\u001b[0m \u001b[0mdtype\u001b[0m\u001b[0;34m=\u001b[0m\u001b[0mdtype\u001b[0m\u001b[0;34m)\u001b[0m\u001b[0;34m\u001b[0m\u001b[0m\n\u001b[0m\u001b[1;32m   2001\u001b[0m     \u001b[0;32mfor\u001b[0m \u001b[0mi\u001b[0m\u001b[0;34m,\u001b[0m \u001b[0mdim\u001b[0m \u001b[0;32min\u001b[0m \u001b[0menumerate\u001b[0m\u001b[0;34m(\u001b[0m\u001b[0mdimensions\u001b[0m\u001b[0;34m)\u001b[0m\u001b[0;34m:\u001b[0m\u001b[0;34m\u001b[0m\u001b[0m\n\u001b[1;32m   2002\u001b[0m         \u001b[0mtmp\u001b[0m \u001b[0;34m=\u001b[0m \u001b[0marange\u001b[0m\u001b[0;34m(\u001b[0m\u001b[0mdim\u001b[0m\u001b[0;34m,\u001b[0m \u001b[0mdtype\u001b[0m\u001b[0;34m=\u001b[0m\u001b[0mdtype\u001b[0m\u001b[0;34m)\u001b[0m\u001b[0;34m\u001b[0m\u001b[0m\n",
      "\u001b[0;31mValueError\u001b[0m: array is too big."
     ]
    }
   ],
   "source": [
    "of = nr[nr['Position'] == 'OF']\n",
    "of_combos = pd.DataFrame(cartesian([of['Name'], of['Name'], of['Name']]), columns=['OF1', 'OF2', 'OF3'])\n",
    "of_combos = of_combos[of_combos['OF1'] != of_combos['OF2']]\n",
    "of_combos = of_combos[of_combos['OF1'] != of_combos['OF3']]\n",
    "of_combos = of_combos[of_combos['OF2'] != of_combos['OF3']]\n",
    "pd.DataFrame(cartesian([of_combos['OF1'], of_combos['OF2'], of_combos['OF3'], sp_combos['SP1'], sp_combos['SP2']]).dtype(),\n",
    "             columns=['OF1', 'OF2', 'OF3', 'SP1', 'SP2'])"
   ]
  },
  {
   "cell_type": "code",
   "execution_count": null,
   "metadata": {
    "collapsed": true
   },
   "outputs": [],
   "source": []
  }
 ],
 "metadata": {
  "kernelspec": {
   "display_name": "Python 2",
   "language": "python",
   "name": "python2"
  },
  "language_info": {
   "codemirror_mode": {
    "name": "ipython",
    "version": 2
   },
   "file_extension": ".py",
   "mimetype": "text/x-python",
   "name": "python",
   "nbconvert_exporter": "python",
   "pygments_lexer": "ipython2",
   "version": "2.7.10"
  }
 },
 "nbformat": 4,
 "nbformat_minor": 0
}
